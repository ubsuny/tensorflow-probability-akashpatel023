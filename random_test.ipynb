{
 "cells": [
  {
   "cell_type": "markdown",
   "metadata": {},
   "source": [
    "# Testing random number generation\n",
    "\n",
    "This is an inherently iterative process so we won't vectorize to begin with, to show how these work in a simpler way. \n",
    "\n",
    "We will investigate a \"poor\" generator that repeats quickly, a more reasonable Park-Miller scheme, and the default `python` scheme from the `random` library. "
   ]
  },
  {
   "cell_type": "code",
   "execution_count": null,
   "metadata": {},
   "outputs": [],
   "source": [
    "import numpy as np\n",
    "import random\n",
    "import time\n",
    "import matplotlib.pyplot as plt"
   ]
  },
  {
   "cell_type": "code",
   "execution_count": null,
   "metadata": {},
   "outputs": [],
   "source": [
    "\n",
    "poor_seed = 123                         # maintain seed for poor generator\n",
    "def poor():                             # example from Numerical Recipes\n",
    "    global poor_seed\n",
    "    seed = poor_seed\n",
    "    IM = 6075 ; IA = 106 ; IC = 1283\n",
    "    seed = (IA * seed + IC) % IM        # linear congruential algorithm\n",
    "    poor_seed = seed\n",
    "    return seed / float(IM)\n",
    "\n",
    "park_miller_seed = 1                    # maintain seed for Park-Miller\n",
    "def park_miller():                      # Park-Miller generator\n",
    "    global park_miller_seed\n",
    "    seed = park_miller_seed\n",
    "    IA = 16807 ; IC = 2147483647 ; IQ = 127773 ; IR = 2836\n",
    "    h = seed // IQ\n",
    "    l = seed % IQ;\n",
    "    seed = IA * l - IR * h\n",
    "    if seed <= 0:\n",
    "        seed += IC\n",
    "    park_miller_seed = seed\n",
    "    return seed / float(IC)\n",
    "\n",
    "def test(generator, name, remark, eyeballtest):\n",
    "    print (\" \" + name + \"() \" + remark)\n",
    "\n",
    "    print (\" checking period ...\")\n",
    "    start = generator()\n",
    "    max_steps = 1000000\n",
    "    for i in range(max_steps):\n",
    "        if generator() == start:\n",
    "            print (\" repeats after \" + repr(i) + \" steps\")\n",
    "            break\n",
    "    if i+1 >= max_steps:\n",
    "        print (\" period larger than \" + repr(max_steps))\n",
    "\n",
    "    start_time = time.perf_counter()\n",
    "    bins = 10000\n",
    "    print (\" binning \" + repr(max_steps) + \" tries in \" + repr(bins) + \" bins\")\n",
    "    bin = np.zeros(bins)\n",
    "    for i in range(max_steps):\n",
    "        b = int(generator() * bins)\n",
    "        if b >= 0 and b < bins:\n",
    "            bin[b] += 1\n",
    "    expect = max_steps / float(bins)\n",
    "    chisqr = np.sum( (bin - expect)**2 ) / expect\n",
    "    cpu_time = time.perf_counter() - start_time\n",
    "    print (\" chi-squar/d.o.f. = \" + repr(chisqr/(bins-1.0)))\n",
    "    print (\" CPU time = \" + repr(cpu_time) + \" seconds\")\n",
    "\n",
    "    for i in range( len(eyeballtest) ):\n",
    "        eyeballtest[i] = [generator(), generator()]\n",
    "\n"
   ]
  },
  {
   "cell_type": "markdown",
   "metadata": {},
   "source": [
    "## Testing random number generators"
   ]
  },
  {
   "cell_type": "code",
   "execution_count": null,
   "metadata": {},
   "outputs": [],
   "source": [
    "poor_pairs = np.zeros( (100000, 2) )\n",
    "park_miller_pairs = np.zeros( (100000, 2) )\n",
    "py_pairs = np.zeros( (100000, 2) )\n",
    "test(poor, \"poor\", \"from Numerical Recipes period 6,075\", poor_pairs)\n",
    "print(\"----\")\n",
    "test(park_miller, \"park_miller\", \"Park-Miller multiplicative generator\", park_miller_pairs)\n",
    "print(\"----\")\n",
    "test(random.random, \"random.random\", \"from Python standard library\", py_pairs)"
   ]
  },
  {
   "cell_type": "markdown",
   "metadata": {},
   "source": [
    "## \"Eyeball\" test\n",
    "\n",
    "Now we plot the generator sequence as pairs on a scatter plot. Bad generators are immediately discernible due to their obvious correlations. "
   ]
  },
  {
   "cell_type": "code",
   "execution_count": null,
   "metadata": {},
   "outputs": [],
   "source": [
    "f1 = plt.figure(1, figsize=(13,13))\n",
    "plt.plot(poor_pairs[:,0], poor_pairs[:,1],'b.')\n",
    "plt.show()"
   ]
  },
  {
   "cell_type": "code",
   "execution_count": null,
   "metadata": {},
   "outputs": [],
   "source": [
    "f2 = plt.figure(2, figsize=(13,13))\n",
    "plt.plot(park_miller_pairs[:,0], park_miller_pairs[:,1],'r.')\n",
    "plt.show()"
   ]
  },
  {
   "cell_type": "code",
   "execution_count": null,
   "metadata": {},
   "outputs": [],
   "source": [
    "f3 = plt.figure(3, figsize=(13,13))\n",
    "plt.plot(py_pairs[:,0], py_pairs[:,1],'g.')\n",
    "plt.show()"
   ]
  },
  {
   "cell_type": "code",
   "execution_count": null,
   "metadata": {},
   "outputs": [],
   "source": []
  }
 ],
 "metadata": {
  "kernelspec": {
   "display_name": "Python 3",
   "language": "python",
   "name": "python3"
  },
  "language_info": {
   "codemirror_mode": {
    "name": "ipython",
    "version": 3
   },
   "file_extension": ".py",
   "mimetype": "text/x-python",
   "name": "python",
   "nbconvert_exporter": "python",
   "pygments_lexer": "ipython3",
   "version": "3.8.8"
  }
 },
 "nbformat": 4,
 "nbformat_minor": 2
}
